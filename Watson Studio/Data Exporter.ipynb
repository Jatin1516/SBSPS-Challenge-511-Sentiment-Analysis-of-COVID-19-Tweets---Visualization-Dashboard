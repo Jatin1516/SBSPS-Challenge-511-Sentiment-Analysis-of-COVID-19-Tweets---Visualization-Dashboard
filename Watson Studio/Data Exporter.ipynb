{
 "cells": [
  {
   "cell_type": "markdown",
   "metadata": {
    "collapsed": true
   },
   "source": [
    "# Data Exporter"
   ]
  },
  {
   "cell_type": "markdown",
   "metadata": {},
   "source": [
    "### 1. Lets first Load all the data"
   ]
  },
  {
   "cell_type": "code",
   "execution_count": 1,
   "metadata": {},
   "outputs": [
    {
     "ename": "ModuleNotFoundError",
     "evalue": "No module named 'botocore'",
     "output_type": "error",
     "traceback": [
      "\u001b[0;31m---------------------------------------------------------------------------\u001b[0m",
      "\u001b[0;31mModuleNotFoundError\u001b[0m                       Traceback (most recent call last)",
      "\u001b[0;32m<ipython-input-1-dff5306b9bd4>\u001b[0m in \u001b[0;36m<module>\u001b[0;34m\u001b[0m\n\u001b[1;32m      3\u001b[0m \u001b[0;32mimport\u001b[0m \u001b[0mtypes\u001b[0m\u001b[0;34m\u001b[0m\u001b[0;34m\u001b[0m\u001b[0m\n\u001b[1;32m      4\u001b[0m \u001b[0;32mimport\u001b[0m \u001b[0mpandas\u001b[0m \u001b[0;32mas\u001b[0m \u001b[0mpd\u001b[0m\u001b[0;34m\u001b[0m\u001b[0;34m\u001b[0m\u001b[0m\n\u001b[0;32m----> 5\u001b[0;31m \u001b[0;32mfrom\u001b[0m \u001b[0mbotocore\u001b[0m\u001b[0;34m.\u001b[0m\u001b[0mclient\u001b[0m \u001b[0;32mimport\u001b[0m \u001b[0mConfig\u001b[0m\u001b[0;34m\u001b[0m\u001b[0;34m\u001b[0m\u001b[0m\n\u001b[0m\u001b[1;32m      6\u001b[0m \u001b[0;32mimport\u001b[0m \u001b[0mibm_boto3\u001b[0m\u001b[0;34m\u001b[0m\u001b[0;34m\u001b[0m\u001b[0m\n\u001b[1;32m      7\u001b[0m \u001b[0;34m\u001b[0m\u001b[0m\n",
      "\u001b[0;31mModuleNotFoundError\u001b[0m: No module named 'botocore'"
     ]
    }
   ],
   "source": [
    "import json\n",
    "import datetime\n",
    "import types\n",
    "import pandas as pd\n",
    "from botocore.client import Config\n",
    "import ibm_boto3\n",
    "\n",
    "def __iter__(self): return 0\n",
    "\n",
    "# @hidden_cell\n",
    "# The following code accesses a file in your IBM Cloud Object Storage. It includes your credentials.\n",
    "# You might want to remove those credentials before you share the notebook.\n",
    "client_2bfc56ae673c4e3aad4c3da569258436 = ibm_boto3.client(service_name='s3',\n",
    "    ibm_api_key_id='XXX',\n",
    "    ibm_auth_endpoint=\"https://iam.cloud.ibm.com/oidc/token\",\n",
    "    config=Config(signature_version='oauth'),\n",
    "    endpoint_url='https://s3.eu-geo.objectstorage.service.networklayer.com')\n",
    "\n",
    "def fetcher(dfs, date):\n",
    "    body = client_2bfc56ae673c4e3aad4c3da569258436.get_object(Bucket='sentimentanalysisproject-donotdelete-pr-pkfzekostvak36',Key='data_' + date + '.csv')['Body']\n",
    "    # add missing __iter__ method, so pandas accepts body as file-like object\n",
    "    if not hasattr(body, \"__iter__\"): body.__iter__ = types.MethodType( __iter__, body )\n",
    "\n",
    "    dfs.append(pd.read_csv(body, usecols=['Tweet Posted Time (UTC)', 'Tweet Content', 'Tweet Location']))\n",
    "    \n",
    "date = datetime.datetime(2020, 3, 1)\n",
    "dfs = []\n",
    "for _ in range(101):\n",
    "    fetcher(dfs, date.strftime('%Y-%m-%d'))\n",
    "    date += datetime.timedelta(days=1)\n",
    "df = pd.concat(dfs, ignore_index=True)\n",
    "df.columns = ['Date', 'Text', 'Location']"
   ]
  },
  {
   "cell_type": "code",
   "execution_count": null,
   "metadata": {},
   "outputs": [],
   "source": [
    "df.head()"
   ]
  },
  {
   "cell_type": "code",
   "execution_count": null,
   "metadata": {},
   "outputs": [],
   "source": [
    "df.shape"
   ]
  },
  {
   "cell_type": "markdown",
   "metadata": {},
   "source": [
    "### Format the data and make it presentable"
   ]
  },
  {
   "cell_type": "code",
   "execution_count": null,
   "metadata": {},
   "outputs": [],
   "source": [
    "def dateFormater(date):\n",
    "    date = datetime.datetime.strptime(date, '%Y-%m-%d')\n",
    "    return date.strftime('%d/%m/%Y')\n",
    "\n",
    "epoch = datetime.datetime.utcfromtimestamp(0)\n",
    "\n",
    "def timeStamp(date):\n",
    "    date = datetime.datetime.strptime(date, '%d/%m/%Y')\n",
    "    return (date - epoch).total_seconds() * 1000.0"
   ]
  },
  {
   "cell_type": "code",
   "execution_count": null,
   "metadata": {},
   "outputs": [],
   "source": [
    "df['Date'] = df['Date'].apply(dateFormater)"
   ]
  },
  {
   "cell_type": "code",
   "execution_count": null,
   "metadata": {},
   "outputs": [],
   "source": [
    "df.head()"
   ]
  },
  {
   "cell_type": "code",
   "execution_count": null,
   "metadata": {},
   "outputs": [],
   "source": [
    "df['TimeStamp'] = df.apply(lambda row: timeStamp(row['Date']), axis=1)"
   ]
  },
  {
   "cell_type": "code",
   "execution_count": null,
   "metadata": {},
   "outputs": [],
   "source": [
    "df.head()"
   ]
  },
  {
   "cell_type": "markdown",
   "metadata": {},
   "source": [
    "### Extracting some more data"
   ]
  },
  {
   "cell_type": "code",
   "execution_count": null,
   "metadata": {},
   "outputs": [],
   "source": [
    "import re\n",
    "def hash_extractor(text):\n",
    "    hash_tags = re.findall('(#[^\\s]*)', text)\n",
    "    return hash_tags\n",
    "\n",
    "def mention_extractor(text):\n",
    "    user_mentions = re.findall('(@[^\\s]*)', text)\n",
    "    return user_mentions"
   ]
  },
  {
   "cell_type": "code",
   "execution_count": null,
   "metadata": {},
   "outputs": [],
   "source": [
    "df['HashTags'] = df.apply(lambda row: json.dumps(hash_extractor(row['Text'])), axis=1)"
   ]
  },
  {
   "cell_type": "code",
   "execution_count": null,
   "metadata": {},
   "outputs": [],
   "source": [
    "df.head()"
   ]
  },
  {
   "cell_type": "code",
   "execution_count": null,
   "metadata": {},
   "outputs": [],
   "source": [
    "df['UserMentions'] = df.apply(lambda row: json.dumps(mention_extractor(row['Text'])), axis=1)"
   ]
  },
  {
   "cell_type": "code",
   "execution_count": null,
   "metadata": {},
   "outputs": [],
   "source": [
    "df.head()"
   ]
  },
  {
   "cell_type": "markdown",
   "metadata": {},
   "source": [
    "### Lets have a field with the sentiment score of the tweets"
   ]
  },
  {
   "cell_type": "code",
   "execution_count": null,
   "metadata": {},
   "outputs": [],
   "source": [
    "#!pip install -U textblob"
   ]
  },
  {
   "cell_type": "code",
   "execution_count": null,
   "metadata": {},
   "outputs": [],
   "source": [
    "from textblob import TextBlob"
   ]
  },
  {
   "cell_type": "code",
   "execution_count": null,
   "metadata": {},
   "outputs": [],
   "source": [
    "df['SentimentScore'] = df['Text'].apply(lambda text: TextBlob(text).sentiment.polarity)"
   ]
  },
  {
   "cell_type": "code",
   "execution_count": null,
   "metadata": {},
   "outputs": [],
   "source": [
    "df.head()"
   ]
  },
  {
   "cell_type": "markdown",
   "metadata": {},
   "source": [
    "### Finally package the data and send to Cloudant"
   ]
  },
  {
   "cell_type": "code",
   "execution_count": null,
   "metadata": {},
   "outputs": [],
   "source": [
    "#!pip install cloudant"
   ]
  },
  {
   "cell_type": "code",
   "execution_count": null,
   "metadata": {},
   "outputs": [],
   "source": [
    "from cloudant.client import Cloudant\n",
    "from cloudant.error import CloudantException\n",
    "from cloudant.result import Result, ResultByKey\n",
    "from cloudant.database import CloudantDatabase\n",
    "\n",
    "username = \"XXX\"\n",
    "apikey = \"XXX\"\n",
    "\n",
    "client = Cloudant.iam(username, apikey)\n",
    "client.connect()"
   ]
  },
  {
   "cell_type": "code",
   "execution_count": null,
   "metadata": {},
   "outputs": [],
   "source": [
    "db = CloudantDatabase(client, 'sentimentdb')\n",
    "if db.exists():\n",
    "    print('DB already exists')\n",
    "else:\n",
    "    db.create()\n",
    "    print('DB created')"
   ]
  },
  {
   "cell_type": "code",
   "execution_count": null,
   "metadata": {},
   "outputs": [],
   "source": [
    "def uploadData(db, l):\n",
    "    i = 0\n",
    "    result = db.bulk_docs(l)\n",
    "    k = []\n",
    "    for x, num in zip(result, range(len(l))):\n",
    "        if x['ok'] == True:\n",
    "            i+=1\n",
    "        else:\n",
    "            k.append(l[num])\n",
    "    #sleep(1)\n",
    "    return (k,i)"
   ]
  },
  {
   "cell_type": "code",
   "execution_count": null,
   "metadata": {},
   "outputs": [],
   "source": [
    "from time import sleep\n",
    "num = 0\n",
    "l = []\n",
    "for index, row in df.iterrows():\n",
    "    json_doc = {\n",
    "       'id': index,\n",
    "        'date': row['Date'],\n",
    "        'text': row['Text'],\n",
    "        'timestamp': int(row['TimeStamp']),\n",
    "        'location': row['Location'],\n",
    "        'hash_tags': row['HashTags'],\n",
    "        'users_mentioned': row['UserMentions'],\n",
    "        'sentiment_score': row['SentimentScore'],\n",
    "    }\n",
    "    l.append(json_doc)\n",
    "    if len(l) > 9999:\n",
    "        #db.create_document(json_doc)\n",
    "        l, i = uploadData(db, l)\n",
    "        num+=i\n",
    "        print('\\rObject : ' + str(num) + '/' + str(df.shape[0]), end='')\n",
    "if len(l) > 0:\n",
    "    l, i = uploadData(db, l)\n",
    "    num+=i\n",
    "    print('\\rObject : ' + str(num) + '/' + str(df.shape[0]), end='')\n",
    "print('Done')"
   ]
  },
  {
   "cell_type": "code",
   "execution_count": null,
   "metadata": {},
   "outputs": [],
   "source": [
    "# @hidden_cell\n",
    "# The project token is an authorization token that is used to access project resources like data sources, connections, and used by platform APIs.\n",
    "from project_lib import Project\n",
    "project = Project(project_id='XXX', project_access_token='XXX')\n",
    "pc = project.project_context\n",
    "project.save_data('final_data.csv', df.to_csv(index=False), overwrite=True)"
   ]
  },
  {
   "cell_type": "code",
   "execution_count": null,
   "metadata": {},
   "outputs": [],
   "source": [
    "import json\n",
    "import datetime\n",
    "import types\n",
    "import pandas as pd\n",
    "from botocore.client import Config\n",
    "import ibm_boto3\n",
    "\n",
    "def __iter__(self): return 0\n",
    "\n",
    "# @hidden_cell\n",
    "# The following code accesses a file in your IBM Cloud Object Storage. It includes your credentials.\n",
    "# You might want to remove those credentials before you share the notebook.\n",
    "client_2bfc56ae673c4e3aad4c3da569258436 = ibm_boto3.client(service_name='s3',\n",
    "    ibm_api_key_id='XXX',\n",
    "    ibm_auth_endpoint=\"https://iam.cloud.ibm.com/oidc/token\",\n",
    "    config=Config(signature_version='oauth'),\n",
    "    endpoint_url='https://s3.eu-geo.objectstorage.service.networklayer.com')\n",
    "\n",
    "body = client_2bfc56ae673c4e3aad4c3da569258436.get_object(Bucket='sentimentanalysisproject-donotdelete-pr-pkfzekostvak36',Key='final_data.csv')['Body']\n",
    "# add missing __iter__ method, so pandas accepts body as file-like object\n",
    "if not hasattr(body, \"__iter__\"): body.__iter__ = types.MethodType( __iter__, body )\n",
    "\n",
    "df = pd.read_csv(body)"
   ]
  },
  {
   "cell_type": "code",
   "execution_count": null,
   "metadata": {},
   "outputs": [],
   "source": [
    "df.head()"
   ]
  },
  {
   "cell_type": "code",
   "execution_count": null,
   "metadata": {},
   "outputs": [],
   "source": [
    "db = CloudantDatabase(client, 'resultdb')\n",
    "if db.exists():\n",
    "    print('DB already exists')\n",
    "else:\n",
    "    db.create()\n",
    "    print('DB created')"
   ]
  },
  {
   "cell_type": "code",
   "execution_count": null,
   "metadata": {},
   "outputs": [],
   "source": [
    "dates = {}\n",
    "location = {}\n",
    "hashtags = {}\n",
    "usermention = {}\n",
    "for _, row in df.iterrows():\n",
    "    # based on date\n",
    "    ts = str(int(row['TimeStamp']))\n",
    "    if ts not in dates:\n",
    "        dates[ts] = {}\n",
    "        dates[ts]['positive'] = 0\n",
    "        dates[ts]['negetive'] = 0\n",
    "        dates[ts]['neutral'] = 0\n",
    "    if row['SentimentScore'] > 0:\n",
    "        dates[ts]['positive'] += 1\n",
    "    elif row['SentimentScore'] < 0:\n",
    "        dates[ts]['negetive'] += 1\n",
    "    else:\n",
    "        dates[ts]['neutral'] += 1\n",
    "    # based on date ends\n",
    "    # on location\n",
    "    loc = row['Location']\n",
    "    if loc not in location:\n",
    "        location[loc] = {}\n",
    "        location[loc]['total'] = {}\n",
    "        location[loc]['total']['positive'] = 0\n",
    "        location[loc]['total']['negetive'] = 0\n",
    "        location[loc]['total']['neutral'] = 0\n",
    "    if ts not in location[loc]:\n",
    "        location[loc][ts] = {}\n",
    "        location[loc][ts]['positive'] = 0\n",
    "        location[loc][ts]['negetive'] = 0\n",
    "        location[loc][ts]['neutral'] = 0\n",
    "    if row['SentimentScore'] > 0:\n",
    "        location[loc][ts]['positive'] += 1\n",
    "        location[loc]['total']['positive'] += 1\n",
    "    elif row['SentimentScore'] < 0:\n",
    "        location[loc][ts]['negetive'] += 1\n",
    "        location[loc]['total']['negetive'] += 1\n",
    "    else:\n",
    "        location[loc][ts]['neutral'] += 1\n",
    "        location[loc]['total']['neutral'] += 1\n",
    "    #location ends\n",
    "    # based on hashtag\n",
    "    for ht in json.loads(row['HashTags']):\n",
    "        if ht not in hashtags:\n",
    "            hashtags[ht] = {}\n",
    "            hashtags[ht]['positive'] = 0\n",
    "            hashtags[ht]['negetive'] = 0\n",
    "            hashtags[ht]['neutral'] = 0\n",
    "            hashtags[ht]['total'] = 0\n",
    "        hashtags[ht]['total'] += 1\n",
    "        if row['SentimentScore'] > 0:\n",
    "            hashtags[ht]['positive'] += 1\n",
    "        elif row['SentimentScore'] < 0:\n",
    "            hashtags[ht]['negetive'] += 1\n",
    "        else:\n",
    "            hashtags[ht]['neutral'] += 1\n",
    "    # end of hashtag\n",
    "    # based on usersmentioned\n",
    "    #print(row['UserMentions'])\n",
    "    for um in json.loads(row['UserMentions']):\n",
    "        if um not in usermention:\n",
    "            usermention[um] = {}\n",
    "            usermention[um]['positive'] = 0\n",
    "            usermention[um]['negetive'] = 0\n",
    "            usermention[um]['neutral'] = 0\n",
    "            usermention[um]['total'] = 0\n",
    "        usermention[um]['total'] += 1\n",
    "        if row['SentimentScore'] > 0:\n",
    "            usermention[um]['positive'] += 1\n",
    "        elif row['SentimentScore'] < 0:\n",
    "            usermention[um]['negetive'] += 1\n",
    "        else:\n",
    "            usermention[um]['neutral'] += 1\n",
    "    # end of usermentions"
   ]
  },
  {
   "cell_type": "code",
   "execution_count": null,
   "metadata": {},
   "outputs": [],
   "source": [
    "#removing extra hashtags\n",
    "for k in list(hashtags):\n",
    "    if hashtags[k]['total'] < 20:\n",
    "        del hashtags[k]"
   ]
  },
  {
   "cell_type": "code",
   "execution_count": null,
   "metadata": {},
   "outputs": [],
   "source": [
    "for k in list(usermention):\n",
    "    if usermention[k]['total'] < 10:\n",
    "        del usermention[k]"
   ]
  },
  {
   "cell_type": "code",
   "execution_count": null,
   "metadata": {},
   "outputs": [],
   "source": [
    "json_doc = {\n",
    "    '_id': 'date',\n",
    "    'date': dates\n",
    "}\n",
    "db.create_document(json_doc)"
   ]
  },
  {
   "cell_type": "code",
   "execution_count": null,
   "metadata": {},
   "outputs": [],
   "source": [
    "json_doc = {\n",
    "    '_id': 'location',\n",
    "    'location': location\n",
    "}\n",
    "db.create_document(json_doc)"
   ]
  },
  {
   "cell_type": "code",
   "execution_count": null,
   "metadata": {},
   "outputs": [],
   "source": [
    "json_doc = {\n",
    "    '_id': 'hashtag',\n",
    "    'hashtag': hashtags\n",
    "}\n",
    "db.create_document(json_doc)"
   ]
  },
  {
   "cell_type": "code",
   "execution_count": null,
   "metadata": {},
   "outputs": [],
   "source": [
    "json_doc = {\n",
    "    '_id': 'usermention',\n",
    "    'usermention': usermention\n",
    "}\n",
    "db.create_document(json_doc)"
   ]
  },
  {
   "cell_type": "code",
   "execution_count": null,
   "metadata": {},
   "outputs": [],
   "source": []
  }
 ],
 "metadata": {
  "kernelspec": {
   "display_name": "Python 3",
   "language": "python",
   "name": "python3"
  },
  "language_info": {
   "codemirror_mode": {
    "name": "ipython",
    "version": 3
   },
   "file_extension": ".py",
   "mimetype": "text/x-python",
   "name": "python",
   "nbconvert_exporter": "python",
   "pygments_lexer": "ipython3",
   "version": "3.8.2"
  }
 },
 "nbformat": 4,
 "nbformat_minor": 1
}
